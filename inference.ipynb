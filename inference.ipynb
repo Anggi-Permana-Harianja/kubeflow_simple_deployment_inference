{
 "cells": [
  {
   "cell_type": "code",
   "execution_count": null,
   "id": "59b6c1ca-44b2-4a16-aee7-7f874518da2c",
   "metadata": {},
   "outputs": [],
   "source": [
    "import requests\n",
    "import json"
   ]
  },
  {
   "cell_type": "code",
   "execution_count": null,
   "id": "5a0f1d48-0f04-4608-84be-8c0ae1f87e2f",
   "metadata": {},
   "outputs": [],
   "source": [
    "'''We can see API endpoint for the model in model server menu '''\n",
    "api_endpoint = 'http://iris-serving-2-0-gd2be.kubeflow-user.svc.cluster.local/v1/models/iris-serving-2-0-gd2be:predict'"
   ]
  },
  {
   "cell_type": "code",
   "execution_count": null,
   "id": "b0f0ef1b-c0e7-4953-92b8-dd9d05645f9b",
   "metadata": {},
   "outputs": [],
   "source": [
    "''' Predict these instances '''\n",
    "data = {\n",
    "  \"instances\": [\n",
    "    [6.8,  2.8,  4.8,  1.4],\n",
    "    [6.0,  3.4,  4.5,  1.6]\n",
    "  ]\n",
    "}"
   ]
  },
  {
   "cell_type": "code",
   "execution_count": null,
   "id": "ac98ebcd-a92a-49b9-b0c3-eb946b274dce",
   "metadata": {},
   "outputs": [],
   "source": [
    "response = requests.post(api_endpoint, json=data)"
   ]
  },
  {
   "cell_type": "code",
   "execution_count": null,
   "id": "2f77da58-9370-47a6-9bc1-e58fe740b775",
   "metadata": {},
   "outputs": [],
   "source": [
    "response.text"
   ]
  }
 ],
 "metadata": {
  "kernelspec": {
   "display_name": "Python 3 (ipykernel)",
   "language": "python",
   "name": "python3"
  },
  "language_info": {
   "codemirror_mode": {
    "name": "ipython",
    "version": 3
   },
   "file_extension": ".py",
   "mimetype": "text/x-python",
   "name": "python",
   "nbconvert_exporter": "python",
   "pygments_lexer": "ipython3",
   "version": "3.9.7"
  }
 },
 "nbformat": 4,
 "nbformat_minor": 5
}
