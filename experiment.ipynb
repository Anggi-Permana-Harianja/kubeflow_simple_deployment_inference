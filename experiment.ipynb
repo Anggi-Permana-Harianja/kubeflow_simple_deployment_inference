{
 "cells": [
  {
   "cell_type": "code",
   "execution_count": null,
   "id": "a836cc24-810c-4fbf-8db8-90a170bd8c76",
   "metadata": {},
   "outputs": [],
   "source": [
    "#cell type: imports\n",
    "import pandas as pd\n",
    "import numpy as np\n",
    "\n",
    "from sklearn.linear_model import LogisticRegression\n",
    "from sklearn.model_selection import train_test_split"
   ]
  },
  {
   "cell_type": "code",
   "execution_count": null,
   "id": "948cab6d-bd4b-4183-920e-276f4c4e3480",
   "metadata": {},
   "outputs": [],
   "source": [
    "#cell type: parameters\n",
    "C = 1.0"
   ]
  },
  {
   "cell_type": "code",
   "execution_count": null,
   "id": "702ebc28-1953-466a-b9b0-d36236270bdf",
   "metadata": {},
   "outputs": [],
   "source": [
    "#pipeline step: load_data\n",
    "url = 'https://gist.githubusercontent.com/netj/8836201/raw/6f9306ad21398ea43cba4f7d537619d0e07d5ae3/iris.csv'\n",
    "df = pd.read_csv(url)\n",
    "df.head()"
   ]
  },
  {
   "cell_type": "code",
   "execution_count": null,
   "id": "5bc64e9a-d992-4131-a933-2dfb0682445c",
   "metadata": {},
   "outputs": [],
   "source": [
    "#pipeline step: feature_eng\n",
    "#depends on: load_data\n",
    "def feature_engineering(df):\n",
    "    df = df.rename(columns={\n",
    "        'sepal.length': 'sepal_length',\n",
    "        'sepal.width': 'sepal_width',\n",
    "        'petal.length': 'petal_length',\n",
    "        'petal.width': 'petal_width'\n",
    "    })\n",
    "    \n",
    "    #add 2 more columns\n",
    "    df['sepal'] = df.sepal_length + df.sepal_width\n",
    "    df['petal'] = df.petal_length + df.petal_width\n",
    "    \n",
    "    #modify target\n",
    "    cond_list = [df.variety == 'Setosa']\n",
    "    cond_choice = [1]\n",
    "    df['new_variety'] = np.select(cond_list, cond_choice, default=0)\n",
    "    \n",
    "    return df"
   ]
  },
  {
   "cell_type": "code",
   "execution_count": null,
   "id": "739f9653-7459-4fbd-acef-e8f78a87821c",
   "metadata": {},
   "outputs": [],
   "source": [
    "df = feature_engineering(df)"
   ]
  },
  {
   "cell_type": "code",
   "execution_count": null,
   "id": "464ca396-052b-4261-a20a-fe5c143c03df",
   "metadata": {},
   "outputs": [],
   "source": [
    "#pipeline step: train_test_split\n",
    "#depends on: feature_eng\n",
    "X = df.loc[:, ['sepal_length', 'sepal_width', 'petal_length', 'petal_width', 'sepal', 'petal']]\n",
    "y = df.loc[:, ['new_variety']]\n",
    "X_train, X_test, y_train, y_test = train_test_split(X, y, stratify=y, \n",
    "                                                    test_size = 40)"
   ]
  },
  {
   "cell_type": "code",
   "execution_count": null,
   "id": "0072bf84-5022-4a38-8db9-6f893b09b645",
   "metadata": {},
   "outputs": [],
   "source": [
    "#pipeline step: log_reg\n",
    "#depends on: train_test_split\n",
    "log_reg = LogisticRegression(C=float(C)).fit(X_train, y_train)"
   ]
  },
  {
   "cell_type": "code",
   "execution_count": null,
   "id": "082762f3-66cd-4cd0-a295-584a6a33b2f0",
   "metadata": {},
   "outputs": [],
   "source": [
    "acc = log_reg.score(X_test, y_test)"
   ]
  },
  {
   "cell_type": "code",
   "execution_count": null,
   "id": "d6fb755c-2313-4771-bf93-5f5d82751c1a",
   "metadata": {},
   "outputs": [],
   "source": [
    "'''create a pipeline step, that print the model, \n",
    "to make sure that resulted image will have the trained model stored in-memory'''"
   ]
  },
  {
   "cell_type": "code",
   "execution_count": null,
   "id": "3eb6da84-636b-4d68-8e92-99fb20f39946",
   "metadata": {},
   "outputs": [],
   "source": [
    "#pipeline step: random_step\n",
    "#depends on: log_reg\n",
    "print(log_reg)"
   ]
  },
  {
   "cell_type": "code",
   "execution_count": null,
   "id": "386ec8f8-f037-49ca-a2f8-9bf5b5514e9e",
   "metadata": {},
   "outputs": [],
   "source": [
    "print(acc)"
   ]
  },
  {
   "cell_type": "code",
   "execution_count": null,
   "id": "7ce21fbb-a605-425d-895d-0db7f7d2c21a",
   "metadata": {},
   "outputs": [],
   "source": [
    "'''pipeline-metrics must be the last cell, \n",
    "only print the metric [should not be any comment within the cell, for parsing purpose]'''"
   ]
  },
  {
   "cell_type": "code",
   "execution_count": null,
   "id": "758659bb-712a-45d4-8cba-bda9babc6b4a",
   "metadata": {},
   "outputs": [],
   "source": [
    "print(acc)"
   ]
  }
 ],
 "metadata": {
  "kernelspec": {
   "display_name": "Python 3 (ipykernel)",
   "language": "python",
   "name": "python3"
  },
  "language_info": {
   "codemirror_mode": {
    "name": "ipython",
    "version": 3
   },
   "file_extension": ".py",
   "mimetype": "text/x-python",
   "name": "python",
   "nbconvert_exporter": "python",
   "pygments_lexer": "ipython3",
   "version": "3.9.7"
  }
 },
 "nbformat": 4,
 "nbformat_minor": 5
}
