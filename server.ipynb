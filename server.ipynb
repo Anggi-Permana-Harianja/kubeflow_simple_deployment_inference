{
 "cells": [
  {
   "cell_type": "markdown",
   "id": "97f825d2-9399-4782-9a1d-af0448339693",
   "metadata": {},
   "source": [
    "### Test trained model that already in-memory"
   ]
  },
  {
   "cell_type": "code",
   "execution_count": null,
   "id": "f58fd8b3-4742-49ef-a20d-1037d595df43",
   "metadata": {},
   "outputs": [],
   "source": [
    "log_reg.predict([X_test.iloc[3, :].tolist()])"
   ]
  },
  {
   "cell_type": "markdown",
   "id": "13cd21c4-62e6-4abf-b78c-cb57818d4e32",
   "metadata": {},
   "source": [
    "***"
   ]
  },
  {
   "cell_type": "markdown",
   "id": "0394c20f-d2df-4816-975d-5ddf6093ce73",
   "metadata": {},
   "source": [
    "### KServe"
   ]
  },
  {
   "cell_type": "code",
   "execution_count": null,
   "id": "30c7043b-97cc-46a8-8662-569d18ec90bb",
   "metadata": {},
   "outputs": [],
   "source": [
    "from kale.common.serveutils import serve"
   ]
  },
  {
   "cell_type": "code",
   "execution_count": null,
   "id": "32313e26-b587-4092-8baf-0462e3711e3a",
   "metadata": {},
   "outputs": [],
   "source": [
    "def feature_engineering(instance):\n",
    "    instance = instance + [instance[0] + instance[1]] + [instance[2] + instance[3]]\n",
    "    \n",
    "    return instance"
   ]
  },
  {
   "cell_type": "code",
   "execution_count": null,
   "id": "ae9ec35a-8caf-4356-8e33-f30d28839164",
   "metadata": {},
   "outputs": [],
   "source": [
    "kfserver = serve(log_reg, preprocessing_fn=feature_engineering)"
   ]
  },
  {
   "cell_type": "code",
   "execution_count": null,
   "id": "066ca88b-54f3-4447-8901-cf0144f6e34b",
   "metadata": {},
   "outputs": [],
   "source": [
    "kfserver"
   ]
  }
 ],
 "metadata": {
  "kernelspec": {
   "display_name": "Python 3 (ipykernel)",
   "language": "python",
   "name": "python3"
  },
  "language_info": {
   "codemirror_mode": {
    "name": "ipython",
    "version": 3
   },
   "file_extension": ".py",
   "mimetype": "text/x-python",
   "name": "python",
   "nbconvert_exporter": "python",
   "pygments_lexer": "ipython3",
   "version": "3.9.7"
  }
 },
 "nbformat": 4,
 "nbformat_minor": 5
}
